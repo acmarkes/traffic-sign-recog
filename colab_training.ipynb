{
  "nbformat": 4,
  "nbformat_minor": 2,
  "metadata": {
    "colab": {
      "name": "Training Traffic Recog.ipynb",
      "provenance": [],
      "collapsed_sections": []
    },
    "kernelspec": {
      "name": "python3",
      "display_name": "Python 3"
    },
    "language_info": {
      "name": "python"
    },
    "accelerator": "GPU"
  },
  "cells": [
    {
      "cell_type": "code",
      "execution_count": null,
      "source": [
        "!git clone https://github.com/acmarkes/traffic-sign-recog.git\r\n",
        "%cd /content/traffic-sign-recog\r\n",
        "!pip install gdown\r\n",
        "\r\n",
        "import gdown\r\n",
        "imgs = 'https://drive.google.com/uc?id=17an3cKGO1I2WlBPSa6zcAucL-jISSHEn'\r\n",
        "labels = 'https://drive.google.com/uc?id=17gFHTQvU0utSNm3XMv2I8Ud4IzuqDLTl'\r\n",
        "\r\n",
        "gdown.download(imgs, 'procImages.joblib', quiet=False)\r\n",
        "gdown.download(labels, 'trainLabels.joblib', quiet=False)\r\n"
      ],
      "outputs": [],
      "metadata": {
        "colab": {
          "base_uri": "https://localhost:8080/",
          "height": 239
        },
        "id": "fmo1MG5KIDxd",
        "outputId": "5c5863e5-20de-41bf-e0bb-feb6ee94a73a"
      }
    },
    {
      "cell_type": "code",
      "execution_count": null,
      "source": [
        "import joblib\r\n",
        "from matplotlib import pyplot as plt\r\n",
        "import numpy as np\r\n",
        "\r\n",
        "import tensorflow as tf\r\n",
        "from tensorflow import keras\r\n",
        "\r\n",
        "import utils\r\n",
        "\r\n",
        "from tensorflow.python.client import device_lib\r\n",
        "print(device_lib.list_local_devices())"
      ],
      "outputs": [],
      "metadata": {
        "colab": {
          "base_uri": "https://localhost:8080/"
        },
        "id": "wO1QDNXGz0Sl",
        "outputId": "f9beb72a-ef68-47ea-e675-7d086465d73a"
      }
    },
    {
      "cell_type": "code",
      "execution_count": null,
      "source": [
        "procImages = joblib.load('procImages.joblib')\r\n",
        "print(procImages.shape)\r\n",
        "utils.sample_images(procImages, seed_num=42)\r\n",
        "trainLabels = joblib.load('labels.joblib')\r\n",
        "print(len(trainLabels))\r\n"
      ],
      "outputs": [],
      "metadata": {
        "colab": {
          "base_uri": "https://localhost:8080/",
          "height": 919
        },
        "id": "yKdcMjeXKAO5",
        "outputId": "045e12c8-25d3-4d8b-c14c-99a70a32e7f6"
      }
    },
    {
      "cell_type": "code",
      "execution_count": null,
      "source": [
        "X_train, y_train, X_val, y_val, X_test, y_test  = utils.get_dataset_partitions_tf(procImages, trainLabels)"
      ],
      "outputs": [],
      "metadata": {
        "id": "k61g1hvIz4gL"
      }
    },
    {
      "cell_type": "code",
      "execution_count": null,
      "source": [
        "class ResidualUnit(keras.layers.Layer):\n",
        "    def __init__(self, filters, strides=1, activation=\"relu\", **kwargs):\n",
        "        super().__init__(**kwargs)\n",
        "        self.activation = keras.activations.get(activation)\n",
        "        self.main_layers = [\n",
        "            keras.layers.Conv2D(filters, 3, strides=strides,\n",
        "                                padding=\"same\", use_bias=False),\n",
        "            keras.layers.BatchNormalization(),\n",
        "            self.activation,\n",
        "            keras.layers.Conv2D(filters, 3, strides=1,\n",
        "                                padding=\"same\", use_bias=False),\n",
        "            keras.layers.BatchNormalization()]\n",
        "        self.skip_layers = []\n",
        "        if strides > 1:\n",
        "            self.skip_layers = [\n",
        "                keras.layers.Conv2D(filters, 1, strides=strides,\n",
        "                                    padding=\"same\", use_bias=False),\n",
        "                keras.layers.BatchNormalization()]\n",
        "\n",
        "    def call(self, inputs):\n",
        "        Z = inputs\n",
        "        for layer in self.main_layers:\n",
        "            Z = layer(Z)\n",
        "        skip_Z = inputs\n",
        "        for layer in self.skip_layers:\n",
        "            skip_Z = layer(skip_Z)\n",
        "        return self.activation(Z + skip_Z)\n",
        "\n",
        "\n",
        "model = keras.models.Sequential()\n",
        "model.add(keras.layers.Conv2D(64, 7, strides=2, input_shape=[30, 30, 3],\n",
        "                              padding=\"same\", use_bias=False))\n",
        "model.add(keras.layers.BatchNormalization())\n",
        "model.add(keras.layers.Activation(\"relu\"))\n",
        "model.add(keras.layers.MaxPool2D(pool_size=3, strides=2, padding=\"same\"))\n",
        "prev_filters = 64\n",
        "\n",
        "for filters in [64] * 3 + [128] * 4 + [256] * 6 + [512] * 3:\n",
        "    strides = 1 if filters == prev_filters else 2\n",
        "    model.add(ResidualUnit(filters, strides=strides))\n",
        "    prev_filters = filters\n",
        "\n",
        "model.add(keras.layers.GlobalAvgPool2D())\n",
        "model.add(keras.layers.Flatten())\n",
        "model.add(keras.layers.Dense(43, activation=\"softmax\"))\n"
      ],
      "outputs": [],
      "metadata": {
        "id": "bb2onemiq3nb"
      }
    },
    {
      "cell_type": "code",
      "execution_count": null,
      "source": [
        "callback = tf.keras.callbacks.EarlyStopping(monitor='loss', patience=3)\n",
        "model.compile(loss=\"sparse_categorical_crossentropy\", optimizer=\"nadam\", metrics=[\"accuracy\"])\n",
        "history = model.fit(X_train, y_train, batch_size=32 ,epochs=3, validation_data=(X_valid,y_valid), callbacks=[callback])\n",
        "score = model.evaluate(X_test,y_test)"
      ],
      "outputs": [],
      "metadata": {
        "id": "RbB0iJRlz9vG"
      }
    },
    {
      "cell_type": "code",
      "execution_count": null,
      "source": [
        "X_new = X_test[:10] # pretend we have new images\n",
        "y_pred = model.predict(X_new)"
      ],
      "outputs": [],
      "metadata": {
        "id": "QLz8ZOtMz9jT"
      }
    }
  ]
}