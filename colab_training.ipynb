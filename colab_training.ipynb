{
  "nbformat": 4,
  "nbformat_minor": 2,
  "metadata": {
    "colab": {
      "name": "Training Traffic Recog.ipynb",
      "provenance": [],
      "collapsed_sections": []
    },
    "kernelspec": {
      "name": "python3",
      "display_name": "Python 3.9.5 64-bit ('general': virtualenv)"
    },
    "language_info": {
      "name": "python",
      "version": "3.9.5",
      "mimetype": "text/x-python",
      "codemirror_mode": {
        "name": "ipython",
        "version": 3
      },
      "pygments_lexer": "ipython3",
      "nbconvert_exporter": "python",
      "file_extension": ".py"
    },
    "accelerator": "GPU",
    "interpreter": {
      "hash": "d6f72275ddc78cf83c5133602fdd4f306bc7ce0def4a661f6a9e846420aebd44"
    }
  },
  "cells": [
    {
      "cell_type": "code",
      "execution_count": 1,
      "source": [
        "!git clone https://github.com/acmarkes/traffic-sign-recog.git\r\n",
        "%cd /content/traffic-sign-recog\r\n",
        "!pip install gdown\r\n",
        "\r\n",
        "import gdown\r\n",
        "imgs = 'https://drive.google.com/uc?id=17an3cKGO1I2WlBPSa6zcAucL-jISSHEn'\r\n",
        "labels = 'https://drive.google.com/uc?id=17gFHTQvU0utSNm3XMv2I8Ud4IzuqDLTl'\r\n",
        "\r\n",
        "gdown.download(imgs, 'procTrainImages.joblib', quiet=False)\r\n",
        "gdown.download(labels, 'train_labels.joblib', quiet=False)\r\n"
      ],
      "outputs": [
        {
          "output_type": "stream",
          "name": "stdout",
          "text": [
            "[WinError 3] O sistema não pode encontrar o caminho especificado: '/content/traffic-sign-recog'\n",
            "d:\\Andrew\\Portfolio\\traffic-sign-recog\n"
          ]
        },
        {
          "output_type": "stream",
          "name": "stderr",
          "text": [
            "Cloning into 'traffic-sign-recog'...\n"
          ]
        },
        {
          "output_type": "stream",
          "name": "stdout",
          "text": [
            "^C\n"
          ]
        },
        {
          "output_type": "error",
          "ename": "ModuleNotFoundError",
          "evalue": "No module named 'gdown'",
          "traceback": [
            "\u001b[1;31m---------------------------------------------------------------------------\u001b[0m",
            "\u001b[1;31mModuleNotFoundError\u001b[0m                       Traceback (most recent call last)",
            "\u001b[1;32m~\\AppData\\Local\\Temp/ipykernel_10160/755271938.py\u001b[0m in \u001b[0;36m<module>\u001b[1;34m\u001b[0m\n\u001b[0;32m      3\u001b[0m \u001b[0mget_ipython\u001b[0m\u001b[1;33m(\u001b[0m\u001b[1;33m)\u001b[0m\u001b[1;33m.\u001b[0m\u001b[0msystem\u001b[0m\u001b[1;33m(\u001b[0m\u001b[1;34m'pip install gdown'\u001b[0m\u001b[1;33m)\u001b[0m\u001b[1;33m\u001b[0m\u001b[1;33m\u001b[0m\u001b[0m\n\u001b[0;32m      4\u001b[0m \u001b[1;33m\u001b[0m\u001b[0m\n\u001b[1;32m----> 5\u001b[1;33m \u001b[1;32mimport\u001b[0m \u001b[0mgdown\u001b[0m\u001b[1;33m\u001b[0m\u001b[1;33m\u001b[0m\u001b[0m\n\u001b[0m\u001b[0;32m      6\u001b[0m \u001b[0mimgs\u001b[0m \u001b[1;33m=\u001b[0m \u001b[1;34m'https://drive.google.com/uc?id=17an3cKGO1I2WlBPSa6zcAucL-jISSHEn'\u001b[0m\u001b[1;33m\u001b[0m\u001b[1;33m\u001b[0m\u001b[0m\n\u001b[0;32m      7\u001b[0m \u001b[0mlabels\u001b[0m \u001b[1;33m=\u001b[0m \u001b[1;34m'https://drive.google.com/uc?id=17gFHTQvU0utSNm3XMv2I8Ud4IzuqDLTl'\u001b[0m\u001b[1;33m\u001b[0m\u001b[1;33m\u001b[0m\u001b[0m\n",
            "\u001b[1;31mModuleNotFoundError\u001b[0m: No module named 'gdown'"
          ]
        },
        {
          "output_type": "stream",
          "name": "stderr",
          "text": [
            "WARNING: You are using pip version 21.1.2; however, version 21.2.4 is available.\n",
            "You should consider upgrading via the 'D:\\Andrew\\Envs\\general\\Scripts\\python.exe -m pip install --upgrade pip' command.\n"
          ]
        },
        {
          "output_type": "stream",
          "name": "stdout",
          "text": [
            "Collecting gdown\n",
            "  Downloading gdown-4.0.2.tar.gz (10 kB)\n",
            "  Installing build dependencies: started\n",
            "  Installing build dependencies: finished with status 'done'\n",
            "  Getting requirements to build wheel: started\n",
            "  Getting requirements to build wheel: finished with status 'done'\n",
            "    Preparing wheel metadata: started\n",
            "    Preparing wheel metadata: finished with status 'done'\n",
            "Requirement already satisfied: tqdm in d:\\andrew\\envs\\general\\lib\\site-packages (from gdown) (4.62.2)\n",
            "Requirement already satisfied: requests[socks]>=2.12.0 in d:\\andrew\\envs\\general\\lib\\site-packages (from gdown) (2.26.0)\n",
            "Requirement already satisfied: six in d:\\andrew\\envs\\general\\lib\\site-packages (from gdown) (1.15.0)\n",
            "Collecting filelock\n",
            "  Downloading filelock-3.3.0-py3-none-any.whl (9.7 kB)\n",
            "Requirement already satisfied: certifi>=2017.4.17 in d:\\andrew\\envs\\general\\lib\\site-packages (from requests[socks]>=2.12.0->gdown) (2021.5.30)\n",
            "Requirement already satisfied: charset-normalizer~=2.0.0 in d:\\andrew\\envs\\general\\lib\\site-packages (from requests[socks]>=2.12.0->gdown) (2.0.4)\n",
            "Requirement already satisfied: urllib3<1.27,>=1.21.1 in d:\\andrew\\envs\\general\\lib\\site-packages (from requests[socks]>=2.12.0->gdown) (1.26.6)\n",
            "Requirement already satisfied: idna<4,>=2.5 in d:\\andrew\\envs\\general\\lib\\site-packages (from requests[socks]>=2.12.0->gdown) (3.2)\n",
            "Collecting PySocks!=1.5.7,>=1.5.6\n",
            "  Downloading PySocks-1.7.1-py3-none-any.whl (16 kB)\n",
            "Requirement already satisfied: colorama in d:\\andrew\\envs\\general\\lib\\site-packages (from tqdm->gdown) (0.4.4)\n",
            "Building wheels for collected packages: gdown\n",
            "  Building wheel for gdown (PEP 517): started\n",
            "  Building wheel for gdown (PEP 517): finished with status 'done'\n",
            "  Created wheel for gdown: filename=gdown-4.0.2-py3-none-any.whl size=10598 sha256=ac994045b17cb009af0f6b774dcf79240cb473aaa2235a022bcee25e50dae1ed\n",
            "  Stored in directory: c:\\users\\andrew\\appdata\\local\\pip\\cache\\wheels\\fc\\6c\\0a\\a691bbb89b59efbc2fd65ebd92c3e9e1a794588253695ef1a2\n",
            "Successfully built gdown\n",
            "Installing collected packages: PySocks, filelock, gdown\n",
            "Successfully installed PySocks-1.7.1 filelock-3.3.0 gdown-4.0.2\n"
          ]
        }
      ],
      "metadata": {
        "colab": {
          "base_uri": "https://localhost:8080/",
          "height": 239
        },
        "id": "fmo1MG5KIDxd",
        "outputId": "5c5863e5-20de-41bf-e0bb-feb6ee94a73a"
      }
    },
    {
      "cell_type": "code",
      "execution_count": null,
      "source": [
        "import joblib\r\n",
        "from matplotlib import pyplot as plt\r\n",
        "import numpy as np\r\n",
        "from datetime import datetime as dt\r\n",
        "\r\n",
        "import tensorflow as tf\r\n",
        "from tensorflow import keras\r\n",
        "\r\n",
        "import utils\r\n",
        "from resnet import resnet34, resnet50\r\n",
        "\r\n",
        "from tensorflow.python.client import device_lib\r\n",
        "print(device_lib.list_local_devices())"
      ],
      "outputs": [
        {
          "output_type": "stream",
          "name": "stdout",
          "text": [
            "[name: \"/device:CPU:0\"\n",
            "device_type: \"CPU\"\n",
            "memory_limit: 268435456\n",
            "locality {\n",
            "}\n",
            "incarnation: 6717405899960823390\n",
            "]\n"
          ]
        }
      ],
      "metadata": {
        "colab": {
          "base_uri": "https://localhost:8080/"
        },
        "id": "wO1QDNXGz0Sl",
        "outputId": "f9beb72a-ef68-47ea-e675-7d086465d73a"
      }
    },
    {
      "cell_type": "code",
      "execution_count": null,
      "source": [
        "procTrainImages = joblib.load('procTrainImages.joblib')\r\n",
        "print(procTrainImages.shape)\r\n",
        "utils.sample_images(procTrainImages, seed_num=42)\r\n",
        "trainLabels = joblib.load('train_labels.joblib')\r\n",
        "print(len(trainLabels))"
      ],
      "outputs": [],
      "metadata": {
        "colab": {
          "base_uri": "https://localhost:8080/",
          "height": 919
        },
        "id": "yKdcMjeXKAO5",
        "outputId": "045e12c8-25d3-4d8b-c14c-99a70a32e7f6"
      }
    },
    {
      "cell_type": "code",
      "execution_count": null,
      "source": [
        "img_tweaks = {\r\n",
        "    'featurewise_center':True,\r\n",
        "    'featurewise_std_normalization':True,\r\n",
        "    'rotation_range':20,\r\n",
        "    'width_shift_range':0.2,\r\n",
        "    'height_shift_range':0.2,\r\n",
        "}"
      ],
      "outputs": [],
      "metadata": {}
    },
    {
      "cell_type": "code",
      "execution_count": null,
      "source": [
        "Xy_train, Xy_val = utils.get_dataset_partitions_tf(procTrainImages, trainLabels, train_batch_size = 64, val_batch_size = 32, gen_kws=img_tweaks)"
      ],
      "outputs": [],
      "metadata": {
        "id": "k61g1hvIz4gL"
      }
    },
    {
      "cell_type": "code",
      "execution_count": null,
      "source": [
        "model = resnet34(43)\r\n",
        "\r\n",
        "early_stop = tf.keras.callbacks.EarlyStopping(monitor='loss', patience=3) #early stopping to avoid overfitting and wasting time\r\n",
        "filepath = '/runs/best_resnet34_weights.hdf5'\r\n",
        "checkpoint =  tf.keras.callbacks.ModelCheckpoint(filepath=filepath, \r\n",
        "                             monitor='val_loss', verbose=1, save_best_only=True, save_weights_only=True, mode='min')    #keeping saved weights of best result only\r\n",
        "csv_logger = keras.callbacks.CSVLogger(f'/runs/log {dt.now().strftime(\"%Y-%m-%d %H:%M\")} resnet34.csv', append=True, separator=';')\r\n",
        "\r\n",
        "optimizer = keras.optimizers.Adam(learning_rate = 0.001)\r\n",
        "model.compile(loss=\"sparse_categorical_crossentropy\", optimizer=optimizer, metrics=[\"accuracy\"])\r\n",
        "history = model.fit(Xy_train, batch_size=32 ,epochs=30, validation_data=Xy_val, callbacks=[early_stop, checkpoint, csv_logger])\r\n"
      ],
      "outputs": [],
      "metadata": {
        "id": "RbB0iJRlz9vG"
      }
    },
    {
      "cell_type": "code",
      "execution_count": null,
      "source": [
        "model50 = resnet50(43)\r\n",
        "\r\n",
        "early_stop = tf.keras.callbacks.EarlyStopping(monitor='loss', patience=3) #early stopping to avoid overfitting and wasting time\r\n",
        "filepath = '/runs/best_resnet50_weights.hdf5'\r\n",
        "checkpoint =  tf.keras.callbacks.ModelCheckpoint(filepath=filepath, \r\n",
        "                             monitor='val_loss', verbose=1, save_best_only=True, save_weights_only=True, mode='min')    #keeping saved weights of best result only\r\n",
        "csv_logger = keras.callbacks.CSVLogger(f'/runs/log {dt.now().strftime(\"%Y-%m-%d %H:%M\")} resnet50.csv', append=True, separator=';')\r\n",
        "\r\n",
        "optimizer = keras.optimizers.Adam(learning_rate = 0.001)\r\n",
        "model50.compile(loss=\"sparse_categorical_crossentropy\", optimizer=optimizer, metrics=[\"accuracy\"])\r\n",
        "history50 = model50.fit(Xy_train, batch_size=32 ,epochs=30, validation_data=Xy_val, callbacks=[early_stop, checkpoint, csv_logger])\r\n"
      ],
      "outputs": [],
      "metadata": {
        "id": "QLz8ZOtMz9jT"
      }
    },
    {
      "cell_type": "code",
      "execution_count": null,
      "source": [
        "import pandas as pd\r\n",
        "\r\n",
        "pd.DataFrame(history.history).plot(title= 'ResNetOwn' , figsize=(8, 5))\r\n",
        "plt.grid(True)\r\n",
        "plt.gca().set_ylim(0, 1) # set the vertical range to [0-1]\r\n",
        "plt.show()"
      ],
      "outputs": [],
      "metadata": {}
    },
    {
      "cell_type": "code",
      "execution_count": null,
      "source": [
        "pd.DataFrame(history50.history).plot(title='ResNet50', figsize=(8, 5))\r\n",
        "plt.grid(True)\r\n",
        "plt.gca().set_ylim(0, 1) # set the vertical range to [0-1]\r\n",
        "plt.show()"
      ],
      "outputs": [],
      "metadata": {}
    },
    {
      "cell_type": "code",
      "execution_count": null,
      "source": [
        "tf.keras.utils.plot_model(model, to_file='/runs/resnet34 architecture.png', show_shapes=True)\r\n",
        "tf.keras.utils.plot_model(model50, to_file='/runs/resnet50 architecture.png', show_shapes=True)"
      ],
      "outputs": [],
      "metadata": {}
    }
  ]
}