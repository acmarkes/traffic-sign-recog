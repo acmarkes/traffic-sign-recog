{
  "nbformat": 4,
  "nbformat_minor": 2,
  "metadata": {
    "colab": {
      "name": "Training Traffic Recog.ipynb",
      "provenance": [],
      "collapsed_sections": []
    },
    "kernelspec": {
      "name": "python3",
      "display_name": "Python 3.9.5 64-bit ('general': virtualenv)"
    },
    "language_info": {
      "name": "python",
      "version": "3.9.5",
      "mimetype": "text/x-python",
      "codemirror_mode": {
        "name": "ipython",
        "version": 3
      },
      "pygments_lexer": "ipython3",
      "nbconvert_exporter": "python",
      "file_extension": ".py"
    },
    "accelerator": "GPU",
    "interpreter": {
      "hash": "d6f72275ddc78cf83c5133602fdd4f306bc7ce0def4a661f6a9e846420aebd44"
    }
  },
  "cells": [
    {
      "cell_type": "code",
      "execution_count": null,
      "source": [
        "!git clone https://github.com/acmarkes/traffic-sign-recog.git\r\n",
        "%cd /content/traffic-sign-recog\r\n",
        "!pip install gdown\r\n",
        "\r\n",
        "import gdown\r\n",
        "imgs = 'https://drive.google.com/uc?id=17an3cKGO1I2WlBPSa6zcAucL-jISSHEn'\r\n",
        "labels = 'https://drive.google.com/uc?id=17gFHTQvU0utSNm3XMv2I8Ud4IzuqDLTl'\r\n",
        "\r\n",
        "gdown.download(imgs, 'procTrainImages.joblib', quiet=False)\r\n",
        "gdown.download(labels, 'train_labels.joblib', quiet=False)\r\n"
      ],
      "outputs": [],
      "metadata": {
        "colab": {
          "base_uri": "https://localhost:8080/",
          "height": 239
        },
        "id": "fmo1MG5KIDxd",
        "outputId": "5c5863e5-20de-41bf-e0bb-feb6ee94a73a"
      }
    },
    {
      "cell_type": "code",
      "execution_count": null,
      "source": [
        "import joblib\r\n",
        "from matplotlib import pyplot as plt\r\n",
        "import numpy as np\r\n",
        "from datetime import datetime as dt\r\n",
        "\r\n",
        "import tensorflow as tf\r\n",
        "from tensorflow import keras\r\n",
        "\r\n",
        "import utils\r\n",
        "from resnet import resnet18, resnet34, resnet50\r\n",
        "\r\n",
        "from tensorflow.python.client import device_lib\r\n",
        "print(device_lib.list_local_devices())"
      ],
      "outputs": [],
      "metadata": {
        "colab": {
          "base_uri": "https://localhost:8080/"
        },
        "id": "wO1QDNXGz0Sl",
        "outputId": "f9beb72a-ef68-47ea-e675-7d086465d73a"
      }
    },
    {
      "cell_type": "code",
      "execution_count": null,
      "source": [
        "procTrainImages = joblib.load('procTrainImages.joblib')\r\n",
        "print(procTrainImages.shape)\r\n",
        "utils.sample_images(procTrainImages, seed_num=42)\r\n",
        "trainLabels = joblib.load('train_labels.joblib')\r\n",
        "print(len(trainLabels))"
      ],
      "outputs": [],
      "metadata": {
        "colab": {
          "base_uri": "https://localhost:8080/",
          "height": 919
        },
        "id": "yKdcMjeXKAO5",
        "outputId": "045e12c8-25d3-4d8b-c14c-99a70a32e7f6"
      }
    },
    {
      "cell_type": "code",
      "execution_count": null,
      "source": [
        "img_tweaks = {\r\n",
        "    'featurewise_center':True,\r\n",
        "    'featurewise_std_normalization':True,\r\n",
        "    'rotation_range':20,\r\n",
        "    'width_shift_range':0.2,\r\n",
        "    'height_shift_range':0.2,\r\n",
        "}"
      ],
      "outputs": [],
      "metadata": {}
    },
    {
      "cell_type": "code",
      "execution_count": null,
      "source": [
        "Xy_train, Xy_val = utils.get_dataset_partitions_tf(procTrainImages, trainLabels, train_batch_size = 64, val_batch_size = 32, gen_kws=img_tweaks)"
      ],
      "outputs": [],
      "metadata": {
        "id": "k61g1hvIz4gL"
      }
    },
    {
      "cell_type": "code",
      "execution_count": null,
      "source": [
        "model18 = resnet18(43)\r\n",
        "\r\n",
        "early_stop = tf.keras.callbacks.EarlyStopping(monitor='loss', patience=3) #early stopping to avoid overfitting and wasting time\r\n",
        "filepath = 'best_resnet18_weights.hdf5'\r\n",
        "checkpoint =  tf.keras.callbacks.ModelCheckpoint(filepath=filepath, \r\n",
        "                             monitor='val_loss', verbose=1, save_best_only=True, save_weights_only=True, mode='min')    #keeping saved weights of best result only\r\n",
        "csv_logger = keras.callbacks.CSVLogger(f'log {dt.now().strftime(\"%Y-%m-%d %H:%M\")} resnet18.csv', append=True, separator=';')\r\n",
        "\r\n",
        "optimizer = keras.optimizers.Adam(learning_rate = 0.001)\r\n",
        "model18.compile(loss=\"sparse_categorical_crossentropy\", optimizer=optimizer, metrics=[\"accuracy\"])\r\n",
        "history18 = model18.fit(Xy_train ,epochs=30, validation_data=Xy_val, callbacks=[early_stop, checkpoint, csv_logger])\r\n"
      ],
      "outputs": [],
      "metadata": {}
    },
    {
      "cell_type": "code",
      "execution_count": null,
      "source": [
        "model34 = resnet34(43)\r\n",
        "\r\n",
        "early_stop = tf.keras.callbacks.EarlyStopping(monitor='loss', patience=3) #early stopping to avoid overfitting and wasting time\r\n",
        "filepath = 'best_resnet34_weights.hdf5'\r\n",
        "checkpoint =  tf.keras.callbacks.ModelCheckpoint(filepath=filepath, \r\n",
        "                             monitor='val_loss', verbose=1, save_best_only=True, save_weights_only=True, mode='min')    #keeping saved weights of best result only\r\n",
        "csv_logger = keras.callbacks.CSVLogger(f'log {dt.now().strftime(\"%Y-%m-%d %H:%M\")} resnet34.csv', append=True, separator=';')\r\n",
        "\r\n",
        "optimizer = keras.optimizers.Adam(learning_rate = 0.001)\r\n",
        "model34.compile(loss=\"sparse_categorical_crossentropy\", optimizer=optimizer, metrics=[\"accuracy\"])\r\n",
        "history34 = model34.fit(Xy_train ,epochs=30, validation_data=Xy_val, callbacks=[early_stop, checkpoint, csv_logger])\r\n"
      ],
      "outputs": [],
      "metadata": {
        "id": "RbB0iJRlz9vG"
      }
    },
    {
      "cell_type": "code",
      "execution_count": null,
      "source": [
        "model50 = resnet50(43)\r\n",
        "\r\n",
        "early_stop = tf.keras.callbacks.EarlyStopping(monitor='loss', patience=3) #early stopping to avoid overfitting and wasting time\r\n",
        "filepath = 'best_resnet50_weights.hdf5'\r\n",
        "checkpoint =  tf.keras.callbacks.ModelCheckpoint(filepath=filepath, \r\n",
        "                             monitor='val_loss', verbose=1, save_best_only=True, save_weights_only=True, mode='min')    #keeping saved weights of best result only\r\n",
        "csv_logger = keras.callbacks.CSVLogger(f'log {dt.now().strftime(\"%Y-%m-%d %H:%M\")} resnet50.csv', append=True, separator=';')\r\n",
        "\r\n",
        "optimizer = keras.optimizers.Adam(learning_rate = 0.001)\r\n",
        "model50.compile(loss=\"sparse_categorical_crossentropy\", optimizer=optimizer, metrics=[\"accuracy\"])\r\n",
        "history50 = model50.fit(Xy_train, epochs=30, validation_data=Xy_val, callbacks=[early_stop, checkpoint, csv_logger])\r\n"
      ],
      "outputs": [],
      "metadata": {
        "id": "QLz8ZOtMz9jT"
      }
    },
    {
      "cell_type": "code",
      "execution_count": null,
      "source": [
        "import pandas as pd\r\n",
        "\r\n",
        "pd.DataFrame(history18.history).plot(title= 'ResNet18' , figsize=(8, 5))\r\n",
        "plt.grid(True)\r\n",
        "plt.gca().set_ylim(0, 1) # set the vertical range to [0-1]\r\n",
        "plt.savefig('resnet18 performance.png')\r\n",
        "plt.show()"
      ],
      "outputs": [],
      "metadata": {}
    },
    {
      "cell_type": "code",
      "execution_count": null,
      "source": [
        "pd.DataFrame(history34.history).plot(title= 'ResNet34' , figsize=(8, 5))\r\n",
        "plt.grid(True)\r\n",
        "plt.gca().set_ylim(0, 1) # set the vertical range to [0-1]\r\n",
        "plt.savefig('resnet34 performance.png')\r\n",
        "plt.show()"
      ],
      "outputs": [],
      "metadata": {}
    },
    {
      "cell_type": "code",
      "execution_count": null,
      "source": [
        "pd.DataFrame(history50.history).plot(title='ResNet50', figsize=(8, 5))\r\n",
        "plt.grid(True)\r\n",
        "plt.gca().set_ylim(0, 1) # set the vertical range to [0-1]\r\n",
        "plt.savefig('resnet50 performance.png')\r\n",
        "plt.show()"
      ],
      "outputs": [],
      "metadata": {}
    },
    {
      "cell_type": "code",
      "execution_count": null,
      "source": [
        "tf.keras.utils.plot_model(model18, to_file='resnet18 architecture.png', show_shapes=True)\r\n",
        "tf.keras.utils.plot_model(model34, to_file='resnet34 architecture.png', show_shapes=True)\r\n",
        "tf.keras.utils.plot_model(model50, to_file='resnet50 architecture.png', show_shapes=True)"
      ],
      "outputs": [],
      "metadata": {}
    }
  ]
}