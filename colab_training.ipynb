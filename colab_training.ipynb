{
  "cells": [
    {
      "cell_type": "code",
      "execution_count": null,
      "metadata": {
        "colab": {
          "base_uri": "https://localhost:8080/",
          "height": 239
        },
        "id": "fmo1MG5KIDxd",
        "outputId": "5c5863e5-20de-41bf-e0bb-feb6ee94a73a"
      },
      "outputs": [],
      "source": [
        "!apt install git-lfs\n",
        "!git clone https://github.com/acmarkes/traffic-sign-recog.git\n",
        "%cd /content/traffic-sign-recog"
      ]
    },
    {
      "cell_type": "code",
      "execution_count": null,
      "metadata": {
        "colab": {
          "base_uri": "https://localhost:8080/"
        },
        "id": "wO1QDNXGz0Sl",
        "outputId": "f9beb72a-ef68-47ea-e675-7d086465d73a"
      },
      "outputs": [],
      "source": [
        "import joblib\n",
        "from matplotlib import pyplot as plt\n",
        "import numpy as np\n",
        "from datetime import datetime as dt\n",
        "\n",
        "import tensorflow as tf\n",
        "from tensorflow import keras\n",
        "\n",
        "import utils\n",
        "from resnet import resnet18, resnet34, resnet50\n",
        "\n",
        "from tensorflow.python.client import device_lib\n",
        "print(device_lib.list_local_devices())"
      ]
    },
    {
      "cell_type": "code",
      "execution_count": null,
      "metadata": {
        "colab": {
          "base_uri": "https://localhost:8080/",
          "height": 919
        },
        "id": "yKdcMjeXKAO5",
        "outputId": "045e12c8-25d3-4d8b-c14c-99a70a32e7f6"
      },
      "outputs": [],
      "source": [
        "procTrainImages = joblib.load('./data/procTrainImages.joblib')\n",
        "print(procTrainImages.shape)\n",
        "utils.sample_images(procTrainImages, seed_num=42)\n",
        "trainLabels = joblib.load('./data/train_labels.joblib')\n",
        "print(len(trainLabels))"
      ]
    },
    {
      "cell_type": "code",
      "execution_count": null,
      "metadata": {},
      "outputs": [],
      "source": [
        "img_tweaks = {\n",
        "    'featurewise_center':True,\n",
        "    'featurewise_std_normalization':True,\n",
        "    'rotation_range':20,\n",
        "    'width_shift_range':0.2,\n",
        "    'height_shift_range':0.2,\n",
        "}"
      ]
    },
    {
      "cell_type": "code",
      "execution_count": null,
      "metadata": {
        "id": "k61g1hvIz4gL"
      },
      "outputs": [],
      "source": [
        "Xy_train, Xy_val = utils.get_dataset_partitions_tf(procTrainImages, trainLabels, train_batch_size = 64, val_batch_size = 32, gen_kws=img_tweaks)"
      ]
    },
    {
      "cell_type": "code",
      "execution_count": null,
      "metadata": {},
      "outputs": [],
      "source": [
        "model18 = resnet18(43)\n",
        "\n",
        "early_stop = tf.keras.callbacks.EarlyStopping(monitor='loss', patience=3) #early stopping to avoid overfitting and wasting time\n",
        "filepath = 'best_resnet18_weights.hdf5'\n",
        "checkpoint =  tf.keras.callbacks.ModelCheckpoint(filepath=filepath, \n",
        "                             monitor='val_loss', verbose=1, save_best_only=True, save_weights_only=True, mode='min')    #keeping saved weights of best result only\n",
        "csv_logger = keras.callbacks.CSVLogger(f'log {dt.now().strftime(\"%Y-%m-%d %H:%M\")} resnet18.csv', append=True, separator=';')\n",
        "\n",
        "optimizer = keras.optimizers.Adam(learning_rate = 0.001)\n",
        "model18.compile(loss=\"sparse_categorical_crossentropy\", optimizer=optimizer, metrics=[\"accuracy\"])\n",
        "history18 = model18.fit(Xy_train ,epochs=30, validation_data=Xy_val, callbacks=[early_stop, checkpoint, csv_logger])\n"
      ]
    },
    {
      "cell_type": "code",
      "execution_count": null,
      "metadata": {
        "id": "RbB0iJRlz9vG"
      },
      "outputs": [],
      "source": [
        "model34 = resnet34(43)\n",
        "\n",
        "early_stop = tf.keras.callbacks.EarlyStopping(monitor='loss', patience=3) #early stopping to avoid overfitting and wasting time\n",
        "filepath = 'best_resnet34_weights.hdf5'\n",
        "checkpoint =  tf.keras.callbacks.ModelCheckpoint(filepath=filepath, \n",
        "                             monitor='val_loss', verbose=1, save_best_only=True, save_weights_only=True, mode='min')    #keeping saved weights of best result only\n",
        "csv_logger = keras.callbacks.CSVLogger(f'log {dt.now().strftime(\"%Y-%m-%d %H:%M\")} resnet34.csv', append=True, separator=';')\n",
        "\n",
        "optimizer = keras.optimizers.Adam(learning_rate = 0.001)\n",
        "model34.compile(loss=\"sparse_categorical_crossentropy\", optimizer=optimizer, metrics=[\"accuracy\"])\n",
        "history34 = model34.fit(Xy_train ,epochs=30, validation_data=Xy_val, callbacks=[early_stop, checkpoint, csv_logger])\n"
      ]
    },
    {
      "cell_type": "code",
      "execution_count": null,
      "metadata": {
        "id": "QLz8ZOtMz9jT"
      },
      "outputs": [],
      "source": [
        "model50 = resnet50(43)\n",
        "\n",
        "early_stop = tf.keras.callbacks.EarlyStopping(monitor='loss', patience=3) #early stopping to avoid overfitting and wasting time\n",
        "filepath = 'best_resnet50_weights.hdf5'\n",
        "checkpoint =  tf.keras.callbacks.ModelCheckpoint(filepath=filepath, \n",
        "                             monitor='val_loss', verbose=1, save_best_only=True, save_weights_only=True, mode='min')    #keeping saved weights of best result only\n",
        "csv_logger = keras.callbacks.CSVLogger(f'log {dt.now().strftime(\"%Y-%m-%d %H:%M\")} resnet50.csv', append=True, separator=';')\n",
        "\n",
        "optimizer = keras.optimizers.Adam(learning_rate = 0.001)\n",
        "model50.compile(loss=\"sparse_categorical_crossentropy\", optimizer=optimizer, metrics=[\"accuracy\"])\n",
        "history50 = model50.fit(Xy_train, epochs=30, validation_data=Xy_val, callbacks=[early_stop, checkpoint, csv_logger])\n"
      ]
    },
    {
      "cell_type": "code",
      "execution_count": null,
      "metadata": {},
      "outputs": [],
      "source": [
        "import pandas as pd\n",
        "\n",
        "pd.DataFrame(history18.history).plot(title= 'ResNet18' , figsize=(8, 5))\n",
        "plt.grid(True)\n",
        "plt.gca().set_ylim(0, 1) # set the vertical range to [0-1]\n",
        "plt.savefig('resnet18 performance.png')\n",
        "plt.show()"
      ]
    },
    {
      "cell_type": "code",
      "execution_count": null,
      "metadata": {},
      "outputs": [],
      "source": [
        "pd.DataFrame(history34.history).plot(title= 'ResNet34' , figsize=(8, 5))\n",
        "plt.grid(True)\n",
        "plt.gca().set_ylim(0, 1) # set the vertical range to [0-1]\n",
        "plt.savefig('resnet34 performance.png')\n",
        "plt.show()"
      ]
    },
    {
      "cell_type": "code",
      "execution_count": null,
      "metadata": {},
      "outputs": [],
      "source": [
        "pd.DataFrame(history50.history).plot(title='ResNet50', figsize=(8, 5))\n",
        "plt.grid(True)\n",
        "plt.gca().set_ylim(0, 1) # set the vertical range to [0-1]\n",
        "plt.savefig('resnet50 performance.png')\n",
        "plt.show()"
      ]
    },
    {
      "cell_type": "code",
      "execution_count": null,
      "metadata": {},
      "outputs": [],
      "source": [
        "tf.keras.utils.plot_model(model18, to_file='resnet18 architecture.png', show_shapes=True)\n",
        "tf.keras.utils.plot_model(model34, to_file='resnet34 architecture.png', show_shapes=True)\n",
        "tf.keras.utils.plot_model(model50, to_file='resnet50 architecture.png', show_shapes=True)"
      ]
    }
  ],
  "metadata": {
    "accelerator": "GPU",
    "colab": {
      "collapsed_sections": [],
      "name": "Training Traffic Recog.ipynb",
      "provenance": []
    },
    "interpreter": {
      "hash": "d6f72275ddc78cf83c5133602fdd4f306bc7ce0def4a661f6a9e846420aebd44"
    },
    "kernelspec": {
      "display_name": "Python 3.9.5 64-bit ('general': venv)",
      "name": "python3"
    },
    "language_info": {
      "codemirror_mode": {
        "name": "ipython",
        "version": 3
      },
      "file_extension": ".py",
      "mimetype": "text/x-python",
      "name": "python",
      "nbconvert_exporter": "python",
      "pygments_lexer": "ipython3",
      "version": "3.9.5"
    }
  },
  "nbformat": 4,
  "nbformat_minor": 2
}
